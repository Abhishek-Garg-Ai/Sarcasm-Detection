{
  "nbformat": 4,
  "nbformat_minor": 0,
  "metadata": {
    "colab": {
      "name": "RedditSarcasmDetection.ipynb",
      "provenance": [],
      "collapsed_sections": [],
      "mount_file_id": "1dpD6932Uf3k0lrwZqYq4vbyJvAEgOn1g",
      "authorship_tag": "ABX9TyNnN5nGt1adWDKuuom/Zu14",
      "include_colab_link": true
    },
    "kernelspec": {
      "name": "python3",
      "display_name": "Python 3"
    },
    "language_info": {
      "name": "python"
    },
    "accelerator": "GPU"
  },
  "cells": [
    {
      "cell_type": "markdown",
      "metadata": {
        "id": "view-in-github",
        "colab_type": "text"
      },
      "source": [
        "<a href=\"https://colab.research.google.com/github/Abhishek-Garg-Ai/Sarcasm-Detection/blob/main/RedditSarcasmDetection.ipynb\" target=\"_parent\"><img src=\"https://colab.research.google.com/assets/colab-badge.svg\" alt=\"Open In Colab\"/></a>"
      ]
    },
    {
      "cell_type": "code",
      "metadata": {
        "id": "I2WDpsFF5Rr1",
        "colab": {
          "base_uri": "https://localhost:8080/",
          "height": 285
        },
        "outputId": "3fbb96e7-52a6-4eeb-e21c-196f212ae579"
      },
      "source": [
        "import pandas as pd\n",
        "df=pd.read_csv('/content/drive/MyDrive/Reddit Sarcasm Detection/train-balanced-sarcasm.csv')\n",
        "df.head()"
      ],
      "execution_count": null,
      "outputs": [
        {
          "output_type": "execute_result",
          "data": {
            "text/html": [
              "<div>\n",
              "<style scoped>\n",
              "    .dataframe tbody tr th:only-of-type {\n",
              "        vertical-align: middle;\n",
              "    }\n",
              "\n",
              "    .dataframe tbody tr th {\n",
              "        vertical-align: top;\n",
              "    }\n",
              "\n",
              "    .dataframe thead th {\n",
              "        text-align: right;\n",
              "    }\n",
              "</style>\n",
              "<table border=\"1\" class=\"dataframe\">\n",
              "  <thead>\n",
              "    <tr style=\"text-align: right;\">\n",
              "      <th></th>\n",
              "      <th>label</th>\n",
              "      <th>comment</th>\n",
              "      <th>author</th>\n",
              "      <th>subreddit</th>\n",
              "      <th>score</th>\n",
              "      <th>ups</th>\n",
              "      <th>downs</th>\n",
              "      <th>date</th>\n",
              "      <th>created_utc</th>\n",
              "      <th>parent_comment</th>\n",
              "    </tr>\n",
              "  </thead>\n",
              "  <tbody>\n",
              "    <tr>\n",
              "      <th>0</th>\n",
              "      <td>0</td>\n",
              "      <td>NC and NH.</td>\n",
              "      <td>Trumpbart</td>\n",
              "      <td>politics</td>\n",
              "      <td>2</td>\n",
              "      <td>-1</td>\n",
              "      <td>-1</td>\n",
              "      <td>2016-10</td>\n",
              "      <td>2016-10-16 23:55:23</td>\n",
              "      <td>Yeah, I get that argument. At this point, I'd ...</td>\n",
              "    </tr>\n",
              "    <tr>\n",
              "      <th>1</th>\n",
              "      <td>0</td>\n",
              "      <td>You do know west teams play against west teams...</td>\n",
              "      <td>Shbshb906</td>\n",
              "      <td>nba</td>\n",
              "      <td>-4</td>\n",
              "      <td>-1</td>\n",
              "      <td>-1</td>\n",
              "      <td>2016-11</td>\n",
              "      <td>2016-11-01 00:24:10</td>\n",
              "      <td>The blazers and Mavericks (The wests 5 and 6 s...</td>\n",
              "    </tr>\n",
              "    <tr>\n",
              "      <th>2</th>\n",
              "      <td>0</td>\n",
              "      <td>They were underdogs earlier today, but since G...</td>\n",
              "      <td>Creepeth</td>\n",
              "      <td>nfl</td>\n",
              "      <td>3</td>\n",
              "      <td>3</td>\n",
              "      <td>0</td>\n",
              "      <td>2016-09</td>\n",
              "      <td>2016-09-22 21:45:37</td>\n",
              "      <td>They're favored to win.</td>\n",
              "    </tr>\n",
              "    <tr>\n",
              "      <th>3</th>\n",
              "      <td>0</td>\n",
              "      <td>This meme isn't funny none of the \"new york ni...</td>\n",
              "      <td>icebrotha</td>\n",
              "      <td>BlackPeopleTwitter</td>\n",
              "      <td>-8</td>\n",
              "      <td>-1</td>\n",
              "      <td>-1</td>\n",
              "      <td>2016-10</td>\n",
              "      <td>2016-10-18 21:03:47</td>\n",
              "      <td>deadass don't kill my buzz</td>\n",
              "    </tr>\n",
              "    <tr>\n",
              "      <th>4</th>\n",
              "      <td>0</td>\n",
              "      <td>I could use one of those tools.</td>\n",
              "      <td>cush2push</td>\n",
              "      <td>MaddenUltimateTeam</td>\n",
              "      <td>6</td>\n",
              "      <td>-1</td>\n",
              "      <td>-1</td>\n",
              "      <td>2016-12</td>\n",
              "      <td>2016-12-30 17:00:13</td>\n",
              "      <td>Yep can confirm I saw the tool they use for th...</td>\n",
              "    </tr>\n",
              "  </tbody>\n",
              "</table>\n",
              "</div>"
            ],
            "text/plain": [
              "   label  ...                                     parent_comment\n",
              "0      0  ...  Yeah, I get that argument. At this point, I'd ...\n",
              "1      0  ...  The blazers and Mavericks (The wests 5 and 6 s...\n",
              "2      0  ...                            They're favored to win.\n",
              "3      0  ...                         deadass don't kill my buzz\n",
              "4      0  ...  Yep can confirm I saw the tool they use for th...\n",
              "\n",
              "[5 rows x 10 columns]"
            ]
          },
          "metadata": {
            "tags": []
          },
          "execution_count": 15
        }
      ]
    },
    {
      "cell_type": "code",
      "metadata": {
        "colab": {
          "base_uri": "https://localhost:8080/"
        },
        "id": "PxKExstr-gBH",
        "outputId": "7afb6c0f-cd57-49a8-abc8-65eb907ee705"
      },
      "source": [
        "df.nunique()"
      ],
      "execution_count": null,
      "outputs": [
        {
          "output_type": "execute_result",
          "data": {
            "text/plain": [
              "label                   2\n",
              "comment            962294\n",
              "author             256561\n",
              "subreddit           14878\n",
              "score                1291\n",
              "ups                  1171\n",
              "downs                   2\n",
              "date                   96\n",
              "created_utc       1004689\n",
              "parent_comment     984286\n",
              "dtype: int64"
            ]
          },
          "metadata": {
            "tags": []
          },
          "execution_count": 16
        }
      ]
    },
    {
      "cell_type": "code",
      "metadata": {
        "colab": {
          "base_uri": "https://localhost:8080/"
        },
        "id": "ywDi6FkOSytH",
        "outputId": "47b33119-b328-4998-8452-bd58c837ec5f"
      },
      "source": [
        "df.columns"
      ],
      "execution_count": null,
      "outputs": [
        {
          "output_type": "execute_result",
          "data": {
            "text/plain": [
              "Index(['label', 'comment', 'author', 'subreddit', 'score', 'ups', 'downs',\n",
              "       'date', 'created_utc', 'parent_comment'],\n",
              "      dtype='object')"
            ]
          },
          "metadata": {
            "tags": []
          },
          "execution_count": 17
        }
      ]
    },
    {
      "cell_type": "code",
      "metadata": {
        "id": "f8RL7VFu-fmu"
      },
      "source": [
        "df.drop(['author', 'subreddit', 'score', 'ups', 'downs',\n",
        "       'date', 'created_utc', 'parent_comment'],inplace=True,axis=1)"
      ],
      "execution_count": null,
      "outputs": []
    },
    {
      "cell_type": "code",
      "metadata": {
        "colab": {
          "base_uri": "https://localhost:8080/"
        },
        "id": "3V8l6rAO-fh0",
        "outputId": "c3a8d7c4-d445-4900-d70a-d1003ab4d9a6"
      },
      "source": [
        "df.shape"
      ],
      "execution_count": null,
      "outputs": [
        {
          "output_type": "execute_result",
          "data": {
            "text/plain": [
              "(1010826, 2)"
            ]
          },
          "metadata": {
            "tags": []
          },
          "execution_count": 19
        }
      ]
    },
    {
      "cell_type": "code",
      "metadata": {
        "colab": {
          "base_uri": "https://localhost:8080/"
        },
        "id": "XvOyp2Vv-fZs",
        "outputId": "6210dbf8-5efe-437e-a4af-b97e67d05b49"
      },
      "source": [
        "df.drop_duplicates(inplace=True,ignore_index=True)\n",
        "df.shape"
      ],
      "execution_count": null,
      "outputs": [
        {
          "output_type": "execute_result",
          "data": {
            "text/plain": [
              "(966209, 2)"
            ]
          },
          "metadata": {
            "tags": []
          },
          "execution_count": 20
        }
      ]
    },
    {
      "cell_type": "code",
      "metadata": {
        "colab": {
          "base_uri": "https://localhost:8080/"
        },
        "id": "Iet0GpeY-ivS",
        "outputId": "e85daad7-914e-4210-9fac-112b174623e3"
      },
      "source": [
        "df.dropna(inplace=True)\n",
        "df.isna().sum()"
      ],
      "execution_count": null,
      "outputs": [
        {
          "output_type": "execute_result",
          "data": {
            "text/plain": [
              "label      0\n",
              "comment    0\n",
              "dtype: int64"
            ]
          },
          "metadata": {
            "tags": []
          },
          "execution_count": 21
        }
      ]
    },
    {
      "cell_type": "code",
      "metadata": {
        "colab": {
          "base_uri": "https://localhost:8080/"
        },
        "id": "nOVv6uUR-lgQ",
        "outputId": "cb61ff02-8750-43fd-bbed-573ec0fe816a"
      },
      "source": [
        "df.label.value_counts()"
      ],
      "execution_count": null,
      "outputs": [
        {
          "output_type": "execute_result",
          "data": {
            "text/plain": [
              "1    486357\n",
              "0    479850\n",
              "Name: label, dtype: int64"
            ]
          },
          "metadata": {
            "tags": []
          },
          "execution_count": 22
        }
      ]
    },
    {
      "cell_type": "markdown",
      "metadata": {
        "id": "FO3lQLNoT8Wc"
      },
      "source": [
        "##Text Cleaning"
      ]
    },
    {
      "cell_type": "code",
      "metadata": {
        "colab": {
          "base_uri": "https://localhost:8080/"
        },
        "id": "SSvTkqjJ-nDJ",
        "outputId": "79bcd11a-75fe-48f4-cebc-58c7c12ed52d"
      },
      "source": [
        "import nltk\n",
        "nltk.download('stopwords')"
      ],
      "execution_count": null,
      "outputs": [
        {
          "output_type": "stream",
          "text": [
            "[nltk_data] Downloading package stopwords to /root/nltk_data...\n",
            "[nltk_data]   Unzipping corpora/stopwords.zip.\n"
          ],
          "name": "stdout"
        },
        {
          "output_type": "execute_result",
          "data": {
            "text/plain": [
              "True"
            ]
          },
          "metadata": {
            "tags": []
          },
          "execution_count": 23
        }
      ]
    },
    {
      "cell_type": "code",
      "metadata": {
        "id": "96mHHTyW7cmi"
      },
      "source": [
        "from nltk.corpus import stopwords\n",
        "import string \n",
        "# from nltk.stem import Po\n",
        "stop = set(stopwords.words('english'))\n",
        "punctuation = list(string.punctuation)\n",
        "stop.update(punctuation)#unwanted words"
      ],
      "execution_count": null,
      "outputs": []
    },
    {
      "cell_type": "code",
      "metadata": {
        "id": "vq25e5AF-Jpq"
      },
      "source": [
        "import re\n",
        "def clean_text(text):\n",
        "  final_text=[word.strip().lower() for word in text.split() if word.strip().lower() not in stop]\n",
        "  final_text=[word for word in final_text if word.isalpha()]\n",
        "  final_text=' '.join(final_text)\n",
        "  final_text=re.sub(r'[!\"#$%&\\'()*+,-./:;<=>?@[\\]^_`{|}~]',' ',final_text)\n",
        "  final_text=[word for word in final_text.split() if len(word)>1]\n",
        "  return ' '.join(final_text).encode('ascii', 'ignore').decode('ascii')"
      ],
      "execution_count": null,
      "outputs": []
    },
    {
      "cell_type": "code",
      "metadata": {
        "id": "Yt0-Ves2-MHM"
      },
      "source": [
        "df['comment']=df['comment'].map(clean_text)"
      ],
      "execution_count": null,
      "outputs": []
    },
    {
      "cell_type": "code",
      "metadata": {
        "colab": {
          "base_uri": "https://localhost:8080/",
          "height": 202
        },
        "id": "H7frtoLy-V0e",
        "outputId": "57f7f37d-9cba-491e-c022-902cda1ffc01"
      },
      "source": [
        "df.head()"
      ],
      "execution_count": null,
      "outputs": [
        {
          "output_type": "execute_result",
          "data": {
            "text/html": [
              "<div>\n",
              "<style scoped>\n",
              "    .dataframe tbody tr th:only-of-type {\n",
              "        vertical-align: middle;\n",
              "    }\n",
              "\n",
              "    .dataframe tbody tr th {\n",
              "        vertical-align: top;\n",
              "    }\n",
              "\n",
              "    .dataframe thead th {\n",
              "        text-align: right;\n",
              "    }\n",
              "</style>\n",
              "<table border=\"1\" class=\"dataframe\">\n",
              "  <thead>\n",
              "    <tr style=\"text-align: right;\">\n",
              "      <th></th>\n",
              "      <th>label</th>\n",
              "      <th>comment</th>\n",
              "    </tr>\n",
              "  </thead>\n",
              "  <tbody>\n",
              "    <tr>\n",
              "      <th>0</th>\n",
              "      <td>0</td>\n",
              "      <td>nc</td>\n",
              "    </tr>\n",
              "    <tr>\n",
              "      <th>1</th>\n",
              "      <td>0</td>\n",
              "      <td>know west teams play west teams east teams</td>\n",
              "    </tr>\n",
              "    <tr>\n",
              "      <th>2</th>\n",
              "      <td>0</td>\n",
              "      <td>underdogs earlier since announcement vegas lin...</td>\n",
              "    </tr>\n",
              "    <tr>\n",
              "      <th>3</th>\n",
              "      <td>0</td>\n",
              "      <td>meme funny none york ones</td>\n",
              "    </tr>\n",
              "    <tr>\n",
              "      <th>4</th>\n",
              "      <td>0</td>\n",
              "      <td>could use one</td>\n",
              "    </tr>\n",
              "  </tbody>\n",
              "</table>\n",
              "</div>"
            ],
            "text/plain": [
              "   label                                            comment\n",
              "0      0                                                 nc\n",
              "1      0         know west teams play west teams east teams\n",
              "2      0  underdogs earlier since announcement vegas lin...\n",
              "3      0                          meme funny none york ones\n",
              "4      0                                      could use one"
            ]
          },
          "metadata": {
            "tags": []
          },
          "execution_count": 27
        }
      ]
    },
    {
      "cell_type": "code",
      "metadata": {
        "id": "084n1I9f8_1L"
      },
      "source": [
        "from sklearn.model_selection import train_test_split\n",
        "X_train,X_test,y_train,y_test=train_test_split(df['comment'],df['label'],test_size=0.25,random_state=1,stratify=df['label'])"
      ],
      "execution_count": null,
      "outputs": []
    },
    {
      "cell_type": "code",
      "metadata": {
        "colab": {
          "base_uri": "https://localhost:8080/"
        },
        "id": "QmlLSk6hUsk8",
        "outputId": "b1fc627b-47b0-4e9d-9cdd-f10c715e739a"
      },
      "source": [
        "X_train.shape,X_test.shape,y_train.shape,y_test.shape"
      ],
      "execution_count": null,
      "outputs": [
        {
          "output_type": "execute_result",
          "data": {
            "text/plain": [
              "((724655,), (241552,), (724655,), (241552,))"
            ]
          },
          "metadata": {
            "tags": []
          },
          "execution_count": 29
        }
      ]
    },
    {
      "cell_type": "code",
      "metadata": {
        "colab": {
          "base_uri": "https://localhost:8080/"
        },
        "id": "uXnw6wzDU8Pe",
        "outputId": "7c53d04f-683a-4589-cea9-84f849e51ce8"
      },
      "source": [
        "y_test.value_counts()"
      ],
      "execution_count": null,
      "outputs": [
        {
          "output_type": "execute_result",
          "data": {
            "text/plain": [
              "1    121589\n",
              "0    119963\n",
              "Name: label, dtype: int64"
            ]
          },
          "metadata": {
            "tags": []
          },
          "execution_count": 30
        }
      ]
    },
    {
      "cell_type": "markdown",
      "metadata": {
        "id": "I589lhMTUwev"
      },
      "source": [
        "###Max length"
      ]
    },
    {
      "cell_type": "code",
      "metadata": {
        "id": "usD1VygkUt8F"
      },
      "source": [
        "word_count={}\n",
        "for text in X_train:\n",
        "  words=len(text.split())\n",
        "  if words not in word_count.keys():\n",
        "    word_count[words]=1\n",
        "  else:\n",
        "    word_count[words]+=1\n",
        "\n",
        "# word_count"
      ],
      "execution_count": null,
      "outputs": []
    },
    {
      "cell_type": "code",
      "metadata": {
        "colab": {
          "base_uri": "https://localhost:8080/",
          "height": 282
        },
        "id": "XJfHOhqdUzXR",
        "outputId": "bb8f785c-54b6-4b40-c628-f1caaaa0cb61"
      },
      "source": [
        "import matplotlib.pyplot as plt\n",
        "plt.scatter(list(word_count.keys()),list(word_count.values()))"
      ],
      "execution_count": null,
      "outputs": [
        {
          "output_type": "execute_result",
          "data": {
            "text/plain": [
              "<matplotlib.collections.PathCollection at 0x7f12c42183d0>"
            ]
          },
          "metadata": {
            "tags": []
          },
          "execution_count": 25
        },
        {
          "output_type": "display_data",
          "data": {
            "image/png": "[encoded data removed]",
            "text/plain": [
              "<Figure size 432x288 with 1 Axes>"
            ]
          },
          "metadata": {
            "tags": [],
            "needs_background": "light"
          }
        }
      ]
    },
    {
      "cell_type": "code",
      "metadata": {
        "id": "h8H_S3sJVDvD"
      },
      "source": [
        "count=0\n",
        "new_word_count={}\n",
        "for k,v in word_count.items():\n",
        "  if(k<30):\n",
        "    new_word_count[k]=word_count[k]\n",
        "# new_word_count"
      ],
      "execution_count": null,
      "outputs": []
    },
    {
      "cell_type": "code",
      "metadata": {
        "colab": {
          "base_uri": "https://localhost:8080/",
          "height": 282
        },
        "id": "XNdxZrvnVKDo",
        "outputId": "d8d6ed42-fd14-49be-c18c-cc5eacd47cbd"
      },
      "source": [
        "import matplotlib.pyplot as plt\n",
        "plt.scatter(list(new_word_count.keys()),list(new_word_count.values()))"
      ],
      "execution_count": null,
      "outputs": [
        {
          "output_type": "execute_result",
          "data": {
            "text/plain": [
              "<matplotlib.collections.PathCollection at 0x7f12c35f4590>"
            ]
          },
          "metadata": {
            "tags": []
          },
          "execution_count": 41
        },
        {
          "output_type": "display_data",
          "data": {
            "image/png": "[encoded data removed]",
            "text/plain": [
              "<Figure size 432x288 with 1 Axes>"
            ]
          },
          "metadata": {
            "tags": [],
            "needs_background": "light"
          }
        }
      ]
    },
    {
      "cell_type": "code",
      "metadata": {
        "colab": {
          "base_uri": "https://localhost:8080/"
        },
        "id": "FB4Pf8gpVQ3u",
        "outputId": "59f8af48-7372-426a-9ba1-71352001ea15"
      },
      "source": [
        "count=0\n",
        "new_word_count={}\n",
        "for k,v in word_count.items():\n",
        "  if(k<8):\n",
        "    new_word_count[k]=word_count[k]\n",
        "# new_word_count\n",
        "sum(list(word_count.values())),sum(list(new_word_count.values()))"
      ],
      "execution_count": null,
      "outputs": [
        {
          "output_type": "execute_result",
          "data": {
            "text/plain": [
              "(676344, 573995)"
            ]
          },
          "metadata": {
            "tags": []
          },
          "execution_count": 43
        }
      ]
    },
    {
      "cell_type": "markdown",
      "metadata": {
        "id": "LpC6piiDWH90"
      },
      "source": [
        "##Tokenization"
      ]
    },
    {
      "cell_type": "code",
      "metadata": {
        "id": "ec8e8ec7"
      },
      "source": [
        "import tensorflow as  tf\n",
        "from tensorflow.keras.preprocessing.text import Tokenizer\n",
        "top_k=50000\n",
        "tokenizer=Tokenizer(oov_token='<UNK>',num_words=top_k)\n",
        "tokenizer.fit_on_texts(X_train)"
      ],
      "execution_count": null,
      "outputs": []
    },
    {
      "cell_type": "code",
      "metadata": {
        "colab": {
          "base_uri": "https://localhost:8080/"
        },
        "id": "GybsSFhxY237",
        "outputId": "683074af-d375-4a48-d5a7-c5f0453a5814"
      },
      "source": [
        "len(tokenizer.word_index)"
      ],
      "execution_count": null,
      "outputs": [
        {
          "output_type": "execute_result",
          "data": {
            "text/plain": [
              "108822"
            ]
          },
          "metadata": {
            "tags": []
          },
          "execution_count": 32
        }
      ]
    },
    {
      "cell_type": "code",
      "metadata": {
        "id": "256a5767"
      },
      "source": [
        "import pickle\n",
        "# saving\n",
        "with open('/content/drive/MyDrive/Reddit Sarcasm Detection/Temp/tokenizer.pickle', 'wb') as handle:\n",
        "    pickle.dump(tokenizer, handle, protocol=pickle.HIGHEST_PROTOCOL)"
      ],
      "execution_count": null,
      "outputs": []
    },
    {
      "cell_type": "code",
      "metadata": {
        "id": "d9319802"
      },
      "source": [
        "import pickle\n",
        "# loading\n",
        "with open('/content/drive/MyDrive/Reddit Sarcasm Detection/Temp/tokenizer.pickle', 'rb') as handle:\n",
        "    tokenizer=pickle.load(handle)"
      ],
      "execution_count": null,
      "outputs": []
    },
    {
      "cell_type": "code",
      "metadata": {
        "colab": {
          "base_uri": "https://localhost:8080/"
        },
        "id": "c1271357",
        "outputId": "0fd4a691-a571-45c5-e813-3a77f5f956c2"
      },
      "source": [
        "tokenized_train=tokenizer.texts_to_sequences(X_train)\n",
        "len(tokenizer.word_index),tokenized_train[:5]"
      ],
      "execution_count": null,
      "outputs": [
        {
          "output_type": "execute_result",
          "data": {
            "text/plain": [
              "(105032,\n",
              " [[7973, 1, 675, 2664, 1331, 277, 18, 266, 122, 1342],\n",
              "  [1958, 684, 1816, 10373, 12147, 17294, 915, 538],\n",
              "  [122, 1872, 728, 132, 1037],\n",
              "  [2392],\n",
              "  [870, 4004, 16628, 16666, 1245]])"
            ]
          },
          "metadata": {
            "tags": []
          },
          "execution_count": 34
        }
      ]
    },
    {
      "cell_type": "code",
      "metadata": {
        "colab": {
          "base_uri": "https://localhost:8080/"
        },
        "id": "9c2de772",
        "outputId": "ee0bc95a-ebf9-43ad-f267-4bc728026eeb"
      },
      "source": [
        "from tensorflow.keras.preprocessing.sequence import pad_sequences\n",
        "train_sequence=pad_sequences(tokenized_train,maxlen=8,padding='post')\n",
        "train_sequence[:2]"
      ],
      "execution_count": null,
      "outputs": [
        {
          "output_type": "execute_result",
          "data": {
            "text/plain": [
              "array([[  675,  2664,  1331,   277,    18,   266,   122,  1342],\n",
              "       [ 1958,   684,  1816, 10373, 12147, 17294,   915,   538]],\n",
              "      dtype=int32)"
            ]
          },
          "metadata": {
            "tags": []
          },
          "execution_count": 35
        }
      ]
    },
    {
      "cell_type": "code",
      "metadata": {
        "id": "2901e755"
      },
      "source": [
        "tokenized_test=tokenizer.texts_to_sequences(X_test)"
      ],
      "execution_count": null,
      "outputs": []
    },
    {
      "cell_type": "code",
      "metadata": {
        "id": "a41d5bdd"
      },
      "source": [
        "test_sequence=pad_sequences(tokenized_test,maxlen=8,padding='post')\n",
        "# test_sequence[:2],X_test[0]#curfews is not available in train vocab"
      ],
      "execution_count": null,
      "outputs": []
    },
    {
      "cell_type": "code",
      "metadata": {
        "colab": {
          "base_uri": "https://localhost:8080/"
        },
        "id": "oHBukTWzZcnj",
        "outputId": "0fe2a3ff-8805-46c4-d127-810d8fded6ae"
      },
      "source": [
        "y_test.shape"
      ],
      "execution_count": null,
      "outputs": [
        {
          "output_type": "execute_result",
          "data": {
            "text/plain": [
              "(241552,)"
            ]
          },
          "metadata": {
            "tags": []
          },
          "execution_count": 38
        }
      ]
    },
    {
      "cell_type": "markdown",
      "metadata": {
        "id": "_F6jGfDlZi1g"
      },
      "source": [
        "##Model"
      ]
    },
    {
      "cell_type": "code",
      "metadata": {
        "id": "PNDtA0eTZfzp"
      },
      "source": [
        "from tensorflow.keras.models import Sequential,Model\n",
        "from tensorflow.keras.layers import Dense,Embedding,Bidirectional,LSTM,Flatten,Dropout,SpatialDropout1D,Input,TimeDistributed\n",
        "from tensorflow.keras.layers import Flatten,Activation,RepeatVector,Permute,Multiply,Lambda"
      ],
      "execution_count": null,
      "outputs": []
    },
    {
      "cell_type": "code",
      "metadata": {
        "scrolled": true,
        "colab": {
          "base_uri": "https://localhost:8080/"
        },
        "id": "efc75f79",
        "outputId": "f4c62668-6ad7-46c7-ff3a-ca5063068290"
      },
      "source": [
        "embedded_dim=100#dimension of embedding layer\n",
        "voc_size=top_k+1\n",
        "max_sent_len=8\n",
        "\n",
        "_input = Input(shape=[max_sent_len])\n",
        "\n",
        "# get the embedding layer\n",
        "embedded = Embedding(voc_size,embedded_dim,input_length=max_sent_len)(_input)\n",
        "activations = LSTM(units, return_sequences=True)(embedded)\n",
        "\n",
        "# compute importance for each step\n",
        "attention = TimeDistributed(Dense(1, activation='tanh'))(activations) \n",
        "attention = Flatten()(attention)\n",
        "attention = Activation('softmax')(attention)\n",
        "attention = RepeatVector(units)(attention)\n",
        "attention = Permute([2, 1])(attention)\n",
        "\n",
        "# apply the attention\n",
        "sent_representation = Multiply()([activations, attention])\n",
        "sent_representation = Lambda(lambda xin: K.sum(xin, axis=1))(sent_representation)\n",
        "\n",
        "probabilities = Dense(1, activation='sigmoid')(sent_representation)\n",
        "\n",
        "model = Model(inputs=_input, outputs=probabilities)\n",
        "model.summary()"
      ],
      "execution_count": null,
      "outputs": [
        {
          "output_type": "stream",
          "text": [
            "Model: \"model_2\"\n",
            "__________________________________________________________________________________________________\n",
            "Layer (type)                    Output Shape         Param #     Connected to                     \n",
            "==================================================================================================\n",
            "input_3 (InputLayer)            [(None, 8)]          0                                            \n",
            "__________________________________________________________________________________________________\n",
            "embedding_2 (Embedding)         (None, 8, 100)       5000100     input_3[0][0]                    \n",
            "__________________________________________________________________________________________________\n",
            "lstm_2 (LSTM)                   (None, 8, 64)        42240       embedding_2[0][0]                \n",
            "__________________________________________________________________________________________________\n",
            "time_distributed_2 (TimeDistrib (None, 8, 1)         65          lstm_2[0][0]                     \n",
            "__________________________________________________________________________________________________\n",
            "flatten_2 (Flatten)             (None, 8)            0           time_distributed_2[0][0]         \n",
            "__________________________________________________________________________________________________\n",
            "activation_2 (Activation)       (None, 8)            0           flatten_2[0][0]                  \n",
            "__________________________________________________________________________________________________\n",
            "repeat_vector_2 (RepeatVector)  (None, 64, 8)        0           activation_2[0][0]               \n",
            "__________________________________________________________________________________________________\n",
            "permute_2 (Permute)             (None, 8, 64)        0           repeat_vector_2[0][0]            \n",
            "__________________________________________________________________________________________________\n",
            "multiply_2 (Multiply)           (None, 8, 64)        0           lstm_2[0][0]                     \n",
            "                                                                 permute_2[0][0]                  \n",
            "__________________________________________________________________________________________________\n",
            "lambda_2 (Lambda)               (None, 64)           0           multiply_2[0][0]                 \n",
            "__________________________________________________________________________________________________\n",
            "dense_5 (Dense)                 (None, 1)            65          lambda_2[0][0]                   \n",
            "==================================================================================================\n",
            "Total params: 5,042,470\n",
            "Trainable params: 5,042,470\n",
            "Non-trainable params: 0\n",
            "__________________________________________________________________________________________________\n"
          ],
          "name": "stdout"
        }
      ]
    },
    {
      "cell_type": "code",
      "metadata": {
        "id": "272ffd07"
      },
      "source": [
        "model.compile(loss='binary_crossentropy',optimizer='adam',metrics=['accuracy'])"
      ],
      "execution_count": null,
      "outputs": []
    },
    {
      "cell_type": "code",
      "metadata": {
        "id": "7f583ace"
      },
      "source": [
        "from tensorflow.keras.callbacks import ModelCheckpoint\n",
        "checkpoint = ModelCheckpoint('/content/drive/MyDrive/Reddit Sarcasm Detection/Temp/LSTM_Model2.h5', monitor='val_accuracy', verbose=1, save_best_only=True,\n",
        "                                 mode='auto')"
      ],
      "execution_count": null,
      "outputs": []
    },
    {
      "cell_type": "code",
      "metadata": {
        "scrolled": false,
        "colab": {
          "base_uri": "https://localhost:8080/"
        },
        "id": "01784c4a",
        "outputId": "3e90d36b-0ebd-4513-881d-aec9144947fd"
      },
      "source": [
        "model.fit(train_sequence,y_train,epochs=15,validation_data=(test_sequence,y_test),batch_size=2048,callbacks=[checkpoint])"
      ],
      "execution_count": null,
      "outputs": [
        {
          "output_type": "stream",
          "text": [
            "Epoch 1/15\n",
            "354/354 [==============================] - 22s 58ms/step - loss: 0.6380 - accuracy: 0.6276 - val_loss: 0.6242 - val_accuracy: 0.6456\n",
            "\n",
            "Epoch 00001: val_accuracy improved from -inf to 0.64563, saving model to /content/drive/MyDrive/Reddit Sarcasm Detection/Temp/LSTM_Model2.h5\n"
          ],
          "name": "stdout"
        },
        {
          "output_type": "stream",
          "text": [
            "/usr/local/lib/python3.7/dist-packages/tensorflow/python/keras/utils/generic_utils.py:497: CustomMaskWarning: Custom mask layers require a config and must override get_config. When loading, the custom mask layer must be passed to the custom_objects argument.\n",
            "  category=CustomMaskWarning)\n"
          ],
          "name": "stderr"
        },
        {
          "output_type": "stream",
          "text": [
            "Epoch 2/15\n",
            "354/354 [==============================] - 19s 54ms/step - loss: 0.6100 - accuracy: 0.6614 - val_loss: 0.6233 - val_accuracy: 0.6474\n",
            "\n",
            "Epoch 00002: val_accuracy improved from 0.64563 to 0.64737, saving model to /content/drive/MyDrive/Reddit Sarcasm Detection/Temp/LSTM_Model2.h5\n",
            "Epoch 3/15\n",
            "354/354 [==============================] - 19s 55ms/step - loss: 0.5956 - accuracy: 0.6731 - val_loss: 0.6287 - val_accuracy: 0.6447\n",
            "\n",
            "Epoch 00003: val_accuracy did not improve from 0.64737\n",
            "Epoch 4/15\n",
            "354/354 [==============================] - 20s 56ms/step - loss: 0.5813 - accuracy: 0.6837 - val_loss: 0.6369 - val_accuracy: 0.6442\n",
            "\n",
            "Epoch 00004: val_accuracy did not improve from 0.64737\n",
            "Epoch 5/15\n",
            "354/354 [==============================] - 19s 55ms/step - loss: 0.5638 - accuracy: 0.6947 - val_loss: 0.6486 - val_accuracy: 0.6426\n",
            "\n",
            "Epoch 00005: val_accuracy did not improve from 0.64737\n",
            "Epoch 6/15\n",
            "354/354 [==============================] - 19s 53ms/step - loss: 0.5437 - accuracy: 0.7072 - val_loss: 0.6783 - val_accuracy: 0.6416\n",
            "\n",
            "Epoch 00006: val_accuracy did not improve from 0.64737\n",
            "Epoch 7/15\n",
            "354/354 [==============================] - 19s 54ms/step - loss: 0.5235 - accuracy: 0.7185 - val_loss: 0.7077 - val_accuracy: 0.6385\n",
            "\n",
            "Epoch 00007: val_accuracy did not improve from 0.64737\n",
            "Epoch 8/15\n",
            "354/354 [==============================] - 19s 54ms/step - loss: 0.5044 - accuracy: 0.7296 - val_loss: 0.7545 - val_accuracy: 0.6361\n",
            "\n",
            "Epoch 00008: val_accuracy did not improve from 0.64737\n",
            "Epoch 9/15\n",
            "354/354 [==============================] - 18s 52ms/step - loss: 0.4868 - accuracy: 0.7389 - val_loss: 0.7916 - val_accuracy: 0.6333\n",
            "\n",
            "Epoch 00009: val_accuracy did not improve from 0.64737\n",
            "Epoch 10/15\n",
            "354/354 [==============================] - 19s 53ms/step - loss: 0.4701 - accuracy: 0.7479 - val_loss: 0.8803 - val_accuracy: 0.6328\n",
            "\n",
            "Epoch 00010: val_accuracy did not improve from 0.64737\n",
            "Epoch 11/15\n",
            "354/354 [==============================] - 19s 54ms/step - loss: 0.4551 - accuracy: 0.7557 - val_loss: 0.9383 - val_accuracy: 0.6309\n",
            "\n",
            "Epoch 00011: val_accuracy did not improve from 0.64737\n",
            "Epoch 12/15\n",
            "354/354 [==============================] - 18s 52ms/step - loss: 0.4409 - accuracy: 0.7634 - val_loss: 0.9624 - val_accuracy: 0.6283\n",
            "\n",
            "Epoch 00012: val_accuracy did not improve from 0.64737\n",
            "Epoch 13/15\n",
            "354/354 [==============================] - 18s 52ms/step - loss: 0.4280 - accuracy: 0.7698 - val_loss: 1.0455 - val_accuracy: 0.6273\n",
            "\n",
            "Epoch 00013: val_accuracy did not improve from 0.64737\n",
            "Epoch 14/15\n",
            "354/354 [==============================] - 19s 54ms/step - loss: 0.4162 - accuracy: 0.7762 - val_loss: 1.1238 - val_accuracy: 0.6282\n",
            "\n",
            "Epoch 00014: val_accuracy did not improve from 0.64737\n",
            "Epoch 15/15\n",
            "354/354 [==============================] - 19s 54ms/step - loss: 0.4051 - accuracy: 0.7816 - val_loss: 1.1740 - val_accuracy: 0.6255\n",
            "\n",
            "Epoch 00015: val_accuracy did not improve from 0.64737\n"
          ],
          "name": "stdout"
        },
        {
          "output_type": "execute_result",
          "data": {
            "text/plain": [
              "<tensorflow.python.keras.callbacks.History at 0x7f092f5c4b50>"
            ]
          },
          "metadata": {
            "tags": []
          },
          "execution_count": 50
        }
      ]
    },
    {
      "cell_type": "code",
      "metadata": {
        "id": "9X9gfivfGaMy"
      },
      "source": [
        "#1->0.647"
      ],
      "execution_count": null,
      "outputs": []
    },
    {
      "cell_type": "code",
      "metadata": {
        "id": "vTNg9mQmZknX"
      },
      "source": [
        "from keras.layers import Dense,Input,Embedding,LSTM,TimeDistributed,Flatten,Activation,RepeatVector,Permute,merge,Lambda\n",
        "from keras.models import Model\n",
        "from keras import backend as K\n",
        "units = 64\n",
        "max_length = 50\n",
        "vocab_size = 5000#embeddings.shape[0]\n",
        "embedding_size =100# embeddings.shape[1]\n",
        "\n",
        "\n",
        "_input = Input(shape=[max_length], dtype='int32')\n",
        "\n",
        "# get the embedding layer\n",
        "embedded = Embedding(\n",
        "        input_dim=vocab_size,\n",
        "        output_dim=embedding_size,\n",
        "        input_length=max_length,\n",
        "        # trainable=trainable,\n",
        "        # mask_zero=masking,\n",
        "        # weights=[embeddings]\n",
        "    )(_input)\n",
        "\n",
        "activations = LSTM(units, return_sequences=True)(embedded)\n",
        "\n",
        "# compute importance for each step\n",
        "attention = TimeDistributed(Dense(1, activation='tanh'))(activations) \n",
        "attention = Flatten()(attention)\n",
        "attention = Activation('softmax')(attention)\n",
        "attention = RepeatVector(units)(attention)\n",
        "attention = Permute([2, 1])(attention)\n",
        "\n",
        "# apply the attention\n",
        "sent_representation = merge.Multiply()([activations, attention])\n",
        "sent_representation = Lambda(lambda xin: K.sum(xin, axis=1))(sent_representation)\n",
        "\n",
        "probabilities = Dense(3, activation='softmax')(sent_representation)\n",
        "\n",
        "model = Model(inputs=_input, outputs=probabilities)\n",
        "model.compile(optimizer='adam', loss='categorical_crossentropy', metrics=[])"
      ],
      "execution_count": null,
      "outputs": []
    },
    {
      "cell_type": "code",
      "metadata": {
        "colab": {
          "base_uri": "https://localhost:8080/"
        },
        "id": "fp8MpP5kCg9i",
        "outputId": "7ac795c6-0872-497e-d91a-24a199367fe8"
      },
      "source": [
        "model.summary()"
      ],
      "execution_count": null,
      "outputs": [
        {
          "output_type": "stream",
          "text": [
            "Model: \"model\"\n",
            "__________________________________________________________________________________________________\n",
            "Layer (type)                    Output Shape         Param #     Connected to                     \n",
            "==================================================================================================\n",
            "input_10 (InputLayer)           [(None, 50)]         0                                            \n",
            "__________________________________________________________________________________________________\n",
            "embedding_9 (Embedding)         (None, 50, 100)      500000      input_10[0][0]                   \n",
            "__________________________________________________________________________________________________\n",
            "lstm_9 (LSTM)                   (None, 50, 64)       42240       embedding_9[0][0]                \n",
            "__________________________________________________________________________________________________\n",
            "time_distributed_9 (TimeDistrib (None, 50, 1)        65          lstm_9[0][0]                     \n",
            "__________________________________________________________________________________________________\n",
            "flatten_9 (Flatten)             (None, 50)           0           time_distributed_9[0][0]         \n",
            "__________________________________________________________________________________________________\n",
            "activation_9 (Activation)       (None, 50)           0           flatten_9[0][0]                  \n",
            "__________________________________________________________________________________________________\n",
            "repeat_vector_9 (RepeatVector)  (None, 64, 50)       0           activation_9[0][0]               \n",
            "__________________________________________________________________________________________________\n",
            "permute_9 (Permute)             (None, 50, 64)       0           repeat_vector_9[0][0]            \n",
            "__________________________________________________________________________________________________\n",
            "multiply_3 (Multiply)           (None, 50, 64)       0           lstm_9[0][0]                     \n",
            "                                                                 permute_9[0][0]                  \n",
            "__________________________________________________________________________________________________\n",
            "lambda_3 (Lambda)               (None, 64)           0           multiply_3[0][0]                 \n",
            "__________________________________________________________________________________________________\n",
            "dense_12 (Dense)                (None, 3)            195         lambda_3[0][0]                   \n",
            "==================================================================================================\n",
            "Total params: 542,500\n",
            "Trainable params: 542,500\n",
            "Non-trainable params: 0\n",
            "__________________________________________________________________________________________________\n"
          ],
          "name": "stdout"
        }
      ]
    },
    {
      "cell_type": "code",
      "metadata": {
        "colab": {
          "base_uri": "https://localhost:8080/",
          "height": 1000
        },
        "id": "Z9wcwh4nDOhM",
        "outputId": "f27239af-80dc-49d6-ec0d-b37141231338"
      },
      "source": [
        "from keras.utils.vis_utils import plot_model\n",
        "plot_model(model,'model.png')"
      ],
      "execution_count": null,
      "outputs": [
        {
          "output_type": "execute_result",
          "data": {
            "image/png": "[encoded data removed]",
            "text/plain": [
              "<IPython.core.display.Image object>"
            ]
          },
          "metadata": {
            "tags": []
          },
          "execution_count": 14
        }
      ]
    },
    {
      "cell_type": "code",
      "metadata": {
        "id": "WjJKbtSFDY8_"
      },
      "source": [
        ""
      ],
      "execution_count": null,
      "outputs": []
    }
  ]
}